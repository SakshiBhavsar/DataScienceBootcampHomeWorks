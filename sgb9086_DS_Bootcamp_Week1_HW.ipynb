{
  "nbformat": 4,
  "nbformat_minor": 0,
  "metadata": {
    "colab": {
      "provenance": []
    },
    "kernelspec": {
      "name": "python3",
      "display_name": "Python 3"
    },
    "language_info": {
      "name": "python"
    }
  },
  "cells": [
    {
      "cell_type": "markdown",
      "source": [
        "Sakshi Bhavsar (sgb9086)\n",
        "\n",
        "Data Science Bootcamp Week 1 HomeWork\n",
        "\n",
        "Solve the following problems:\n",
        "\n",
        "1.⁠ ⁠Display Fibonacci Series upto 10 terms"
      ],
      "metadata": {
        "id": "bc-57ml-xm_m"
      }
    },
    {
      "cell_type": "code",
      "execution_count": 22,
      "metadata": {
        "colab": {
          "base_uri": "https://localhost:8080/"
        },
        "id": "6G5Qbf1bxkGb",
        "outputId": "794ed37b-f684-4009-dadf-9551e72fb627"
      },
      "outputs": [
        {
          "output_type": "stream",
          "name": "stdout",
          "text": [
            "Fibonacci Series: [0, 1, 1, 2, 3, 5, 8, 13, 21, 34]\n"
          ]
        }
      ],
      "source": [
        "def fibonacci(n):\n",
        "    fib_series = [0, 1]\n",
        "    for i in range(n - 2):\n",
        "        next_element = fib_series[-1] + fib_series[-2]\n",
        "        fib_series.append(next_element)\n",
        "    return fib_series\n",
        "\n",
        "print(\"Fibonacci Series:\", fibonacci(10))"
      ]
    },
    {
      "cell_type": "markdown",
      "source": [
        "2.⁠ ⁠Display numbers at the odd indices of a list"
      ],
      "metadata": {
        "id": "NsASA1Q-x9Hn"
      }
    },
    {
      "cell_type": "code",
      "source": [
        "def odd_index_numbers(lst):\n",
        "    return [lst[i] for i in range(1, len(lst), 2)] #increment by 2 to get the odd indices\n",
        "lst = [0, 1, 2, 3, 4, 5, 6, 7, 8, 9, 10]\n",
        "print(\"Numbers at odd indices: \", odd_index_numbers(lst))"
      ],
      "metadata": {
        "colab": {
          "base_uri": "https://localhost:8080/"
        },
        "id": "Q_6qCFCCxvKW",
        "outputId": "77129fcd-55c1-48b3-a53a-31a40a161e90"
      },
      "execution_count": 24,
      "outputs": [
        {
          "output_type": "stream",
          "name": "stdout",
          "text": [
            "Numbers at odd indices:  [1, 3, 5, 7, 9]\n"
          ]
        }
      ]
    },
    {
      "cell_type": "markdown",
      "source": [
        "3. Count the number of different words in the given text"
      ],
      "metadata": {
        "id": "BewE-CzKyWyV"
      }
    },
    {
      "cell_type": "code",
      "source": [
        "def count_unique_words(text):\n",
        "    words = text.lower().split()\n",
        "    return len(set(words))\n",
        "\n",
        "string = \"\"\"I have provided this text to provide tips on creating interesting paragraphs.\n",
        "\n",
        "First, start with a clear topic sentence that introduces the main idea.\n",
        "\n",
        "Then, support the topic sentence with specific details, examples, and evidence.\n",
        "\n",
        "Vary the sentence length and structure to keep the reader engaged.\n",
        "\n",
        "Finally, end with a strong concluding sentence that summarizes the main points.\n",
        "\n",
        "Remember, practice makes perfect!\"\"\"\n",
        "\n",
        "print(\"Number of different words:\", count_unique_words(string))"
      ],
      "metadata": {
        "colab": {
          "base_uri": "https://localhost:8080/"
        },
        "id": "lpP7XoPnyIH8",
        "outputId": "423c6a75-49ec-4178-a056-ad108fff7df9"
      },
      "execution_count": 25,
      "outputs": [
        {
          "output_type": "stream",
          "name": "stdout",
          "text": [
            "Number of different words: 47\n"
          ]
        }
      ]
    },
    {
      "cell_type": "markdown",
      "source": [
        "4. Write a function count_vowels(word) that returns the number of vowels in the word"
      ],
      "metadata": {
        "id": "lSqmipJPyvtm"
      }
    },
    {
      "cell_type": "code",
      "source": [
        "def count_vowels(word):\n",
        "    # vowels = \"aeiouAEIOU\"\n",
        "    # return sum(1 for char in word if char in vowels)\n",
        "    return sum(word.count(vowel) for vowel in \"aeiouAEIOU\")\n",
        "\n",
        "print(\"Vowel count in 'science':\", count_vowels(\"science\"))"
      ],
      "metadata": {
        "colab": {
          "base_uri": "https://localhost:8080/"
        },
        "id": "MZ8RPcW1yhtV",
        "outputId": "64bd7d30-2313-4f40-bc9e-6eb7f3a2b913"
      },
      "execution_count": 27,
      "outputs": [
        {
          "output_type": "stream",
          "name": "stdout",
          "text": [
            "Vowel count in 'science': 3\n"
          ]
        }
      ]
    },
    {
      "cell_type": "markdown",
      "source": [
        "5. Iterate through a list of animals and print each one in all caps"
      ],
      "metadata": {
        "id": "A3xh3YIWri_R"
      }
    },
    {
      "cell_type": "code",
      "source": [
        "animals=['tiger', 'elephant', 'monkey', 'zebra', 'panther']\n",
        "for animal in animals:\n",
        "    print(animal.upper())"
      ],
      "metadata": {
        "id": "HDryvaF-y22H",
        "colab": {
          "base_uri": "https://localhost:8080/"
        },
        "outputId": "8fe19acd-4df1-4d1f-ab36-f448667fbd03"
      },
      "execution_count": 28,
      "outputs": [
        {
          "output_type": "stream",
          "name": "stdout",
          "text": [
            "TIGER\n",
            "ELEPHANT\n",
            "MONKEY\n",
            "ZEBRA\n",
            "PANTHER\n"
          ]
        }
      ]
    },
    {
      "cell_type": "markdown",
      "source": [
        "6. Iterate from 1 to 20, printing each number and whether it's odd or even"
      ],
      "metadata": {
        "id": "TQVxhLrlrdeu"
      }
    },
    {
      "cell_type": "code",
      "source": [
        "for i in range(1, 21):\n",
        "  if(i % 2 == 0):\n",
        "    print(i, \" : Even\")\n",
        "  else:\n",
        "    print(i, \" : Odd\")"
      ],
      "metadata": {
        "colab": {
          "base_uri": "https://localhost:8080/"
        },
        "id": "ZMN9QPGKrxZi",
        "outputId": "b504a82d-037c-4fcc-cd3b-2106492cd4b0"
      },
      "execution_count": 30,
      "outputs": [
        {
          "output_type": "stream",
          "name": "stdout",
          "text": [
            "1  : Odd\n",
            "2  : Even\n",
            "3  : Odd\n",
            "4  : Even\n",
            "5  : Odd\n",
            "6  : Even\n",
            "7  : Odd\n",
            "8  : Even\n",
            "9  : Odd\n",
            "10  : Even\n",
            "11  : Odd\n",
            "12  : Even\n",
            "13  : Odd\n",
            "14  : Even\n",
            "15  : Odd\n",
            "16  : Even\n",
            "17  : Odd\n",
            "18  : Even\n",
            "19  : Odd\n",
            "20  : Even\n"
          ]
        }
      ]
    },
    {
      "cell_type": "markdown",
      "source": [
        "7. Function sum_of_integers(a, b) that takes two integers and returns their sum"
      ],
      "metadata": {
        "id": "JegWBZ9psP_S"
      }
    },
    {
      "cell_type": "code",
      "source": [
        "def sum_of_integers(a, b):\n",
        "  return a+b;\n",
        "\n",
        "num1 = int(input(\"Enter first integer: \"))\n",
        "num2 = int(input(\"Enter second integer: \"))\n",
        "print(\"Sum: \", sum_of_integers(num1, num2))"
      ],
      "metadata": {
        "colab": {
          "base_uri": "https://localhost:8080/"
        },
        "id": "WoKok2f_sBpK",
        "outputId": "0a43a4ff-3385-4695-b60a-fa5272309727"
      },
      "execution_count": 31,
      "outputs": [
        {
          "output_type": "stream",
          "name": "stdout",
          "text": [
            "Enter first integer: 20\n",
            "Enter second integer: 75\n",
            "Sum:  95\n"
          ]
        }
      ]
    },
    {
      "cell_type": "code",
      "source": [],
      "metadata": {
        "id": "SNSnyV1-so1-"
      },
      "execution_count": null,
      "outputs": []
    }
  ]
}