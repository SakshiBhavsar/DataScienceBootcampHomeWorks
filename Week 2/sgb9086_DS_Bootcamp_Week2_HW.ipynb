{
  "nbformat": 4,
  "nbformat_minor": 0,
  "metadata": {
    "colab": {
      "provenance": []
    },
    "kernelspec": {
      "name": "python3",
      "display_name": "Python 3"
    },
    "language_info": {
      "name": "python"
    }
  },
  "cells": [
    {
      "cell_type": "markdown",
      "source": [
        "Sakshi Bhavsar (sgb9086)\n",
        "\n",
        "N10793425\n",
        "\n",
        "Data Science Bootcamp Week 2 HomeWork"
      ],
      "metadata": {
        "id": "tfye4c1Kgygr"
      }
    },
    {
      "cell_type": "code",
      "execution_count": 7,
      "metadata": {
        "colab": {
          "base_uri": "https://localhost:8080/"
        },
        "id": "muDescQuaP-v",
        "outputId": "d0beba60-be7a-45b4-993d-2bb215c858ac"
      },
      "outputs": [
        {
          "output_type": "stream",
          "name": "stdout",
          "text": [
            "Vertically Stacked:\n",
            " [[1 2 3 4 5]\n",
            " [4 5 6 7 8]]\n",
            "Horizontally Stacked:\n",
            " [1 2 3 4 5 4 5 6 7 8]\n",
            "Common Elements: [4 5]\n",
            "Filtered A within range [5, 10]: [5]\n",
            "Filtered Iris Data:\n",
            " [[4.8 3.4 1.6 0.2]\n",
            " [4.8 3.4 1.9 0.2]\n",
            " [4.7 3.2 1.6 0.2]\n",
            " [4.8 3.1 1.6 0.2]\n",
            " [4.9 2.4 3.3 1. ]\n",
            " [4.9 2.5 4.5 1.7]]\n"
          ]
        }
      ],
      "source": [
        "import numpy as np\n",
        "\n",
        "# Load the iris dataset\n",
        "url = 'https://archive.ics.uci.edu/ml/machine-learning-databases/iris/iris.data'\n",
        "iris_2d = np.genfromtxt(url, delimiter=',', dtype='float', usecols=[0, 1, 2, 3])\n",
        "\n",
        "# 1. Define two custom numpy arrays, A and B\n",
        "A = np.array([1, 2, 3, 4, 5])\n",
        "B = np.array([4, 5, 6, 7, 8])\n",
        "\n",
        "# Stack A and B vertically and horizontally\n",
        "vertical_stack = np.vstack((A, B))\n",
        "horizontal_stack = np.hstack((A, B))\n",
        "\n",
        "print(\"Vertically Stacked:\\n\", vertical_stack)\n",
        "print(\"Horizontally Stacked:\\n\", horizontal_stack)\n",
        "\n",
        "# 2. Find common elements between A and B (intersection)\n",
        "common_elements = np.intersect1d(A, B)\n",
        "print(\"Common Elements:\", common_elements)\n",
        "\n",
        "# 3. Extract numbers from A within range [5, 10]\n",
        "filtered_A = A[(A >= 5) & (A <= 10)]\n",
        "print(\"Filtered A within range [5, 10]:\", filtered_A)\n",
        "\n",
        "# 4. Filter rows where petallength (3rd column) > 1.5 and sepallength (1st column) < 5.0\n",
        "filtered_iris = iris_2d[(iris_2d[:, 2] > 1.5) & (iris_2d[:, 0] < 5.0)]\n",
        "print(\"Filtered Iris Data:\\n\", filtered_iris)\n"
      ]
    },
    {
      "cell_type": "code",
      "source": [
        "import pandas as pd\n",
        "import numpy as np\n",
        "\n",
        "# Load the dataset\n",
        "df = pd.read_csv('https://raw.githubusercontent.com/selva86/datasets/master/Cars93_miss.csv')\n",
        "\n",
        "# 1. Filter 'Manufacturer', 'Model' and 'Type' for every 20th row starting from row 0\n",
        "filtered_df = df.iloc[::20, :][['Manufacturer', 'Model', 'Type']]\n",
        "print(\"Filtered Rows:\\n\", filtered_df)\n",
        "\n",
        "# 2. Replace missing values in Min.Price and Max.Price with their respective mean\n",
        "df['Min.Price'].fillna(df['Min.Price'].mean(), inplace=True)\n",
        "df['Max.Price'].fillna(df['Max.Price'].mean(), inplace=True)\n",
        "print(\"Missing values replaced.\")\n",
        "\n",
        "# 3. Get rows with row sum > 100\n",
        "df_random = pd.DataFrame(np.random.randint(10, 40, 60).reshape(-1, 4))\n",
        "row_sum_filtered = df_random[df_random.sum(axis=1) > 100]\n",
        "print(\"Rows with sum > 100:\\n\", row_sum_filtered)\n"
      ],
      "metadata": {
        "colab": {
          "base_uri": "https://localhost:8080/"
        },
        "id": "uFaxbiFOaW26",
        "outputId": "dfdc15ae-deb2-470f-fcdd-81f931d23f22"
      },
      "execution_count": 8,
      "outputs": [
        {
          "output_type": "stream",
          "name": "stdout",
          "text": [
            "Filtered Rows:\n",
            "    Manufacturer    Model     Type\n",
            "0         Acura  Integra    Small\n",
            "20     Chrysler  LeBaron  Compact\n",
            "40        Honda  Prelude   Sporty\n",
            "60      Mercury   Cougar  Midsize\n",
            "80       Subaru   Loyale    Small\n",
            "Missing values replaced.\n",
            "Rows with sum > 100:\n",
            "      0   1   2   3\n",
            "0   25  39  21  29\n",
            "1   17  38  37  29\n",
            "4   28  38  16  21\n",
            "8   39  20  24  25\n",
            "13  34  21  31  24\n"
          ]
        },
        {
          "output_type": "stream",
          "name": "stderr",
          "text": [
            "<ipython-input-8-f44631f53c87>:12: FutureWarning: A value is trying to be set on a copy of a DataFrame or Series through chained assignment using an inplace method.\n",
            "The behavior will change in pandas 3.0. This inplace method will never work because the intermediate object on which we are setting values always behaves as a copy.\n",
            "\n",
            "For example, when doing 'df[col].method(value, inplace=True)', try using 'df.method({col: value}, inplace=True)' or df[col] = df[col].method(value) instead, to perform the operation inplace on the original object.\n",
            "\n",
            "\n",
            "  df['Min.Price'].fillna(df['Min.Price'].mean(), inplace=True)\n",
            "<ipython-input-8-f44631f53c87>:13: FutureWarning: A value is trying to be set on a copy of a DataFrame or Series through chained assignment using an inplace method.\n",
            "The behavior will change in pandas 3.0. This inplace method will never work because the intermediate object on which we are setting values always behaves as a copy.\n",
            "\n",
            "For example, when doing 'df[col].method(value, inplace=True)', try using 'df.method({col: value}, inplace=True)' or df[col] = df[col].method(value) instead, to perform the operation inplace on the original object.\n",
            "\n",
            "\n",
            "  df['Max.Price'].fillna(df['Max.Price'].mean(), inplace=True)\n"
          ]
        }
      ]
    },
    {
      "cell_type": "code",
      "source": [],
      "metadata": {
        "id": "ODWVllgjaazW"
      },
      "execution_count": null,
      "outputs": []
    }
  ]
}