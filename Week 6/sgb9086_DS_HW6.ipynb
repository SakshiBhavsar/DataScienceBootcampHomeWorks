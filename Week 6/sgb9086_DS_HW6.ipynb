{
  "nbformat": 4,
  "nbformat_minor": 0,
  "metadata": {
    "colab": {
      "provenance": []
    },
    "kernelspec": {
      "name": "python3",
      "display_name": "Python 3"
    },
    "language_info": {
      "name": "python"
    }
  },
  "cells": [
    {
      "cell_type": "code",
      "execution_count": 5,
      "metadata": {
        "colab": {
          "base_uri": "https://localhost:8080/"
        },
        "id": "GgxpFZHnwAOx",
        "outputId": "5ba9ad7e-6970-44f6-c2de-e00d417970bd"
      },
      "outputs": [
        {
          "output_type": "stream",
          "name": "stdout",
          "text": [
            "Normalized MSE on Validation Set: 63206.53705269099\n",
            "   Predicted Salary\n",
            "0      75384.615385\n",
            "1     165384.615385\n"
          ]
        }
      ],
      "source": [
        "# Preprocess Test Data and Get Predictions\n",
        "\n",
        "# 1. Import Required Libraries\n",
        "import pandas as pd\n",
        "import numpy as np\n",
        "from sklearn.preprocessing import StandardScaler, OneHotEncoder\n",
        "from sklearn.compose import ColumnTransformer\n",
        "from sklearn.model_selection import train_test_split\n",
        "from sklearn.linear_model import LinearRegression\n",
        "from sklearn.metrics import mean_squared_error\n",
        "\n",
        "# 2. Load Dataset\n",
        "data = pd.read_csv(\"employee.csv\")\n",
        "\n",
        "# 3. Initial Cleanup\n",
        "data = data.drop(columns=['id', 'timestamp', 'country'])\n",
        "\n",
        "# 4. Identify Numeric and Categorical Columns\n",
        "num_cols = data.select_dtypes(include=[np.number]).columns.tolist()\n",
        "num_cols.remove('salary')\n",
        "cat_cols = data.select_dtypes(include=['object']).columns.tolist()\n",
        "\n",
        "# 5. Define Feature Matrix and Target Vector\n",
        "X = data.drop(columns=['salary'])\n",
        "y = data['salary']\n",
        "\n",
        "# 6. Train-Test Split\n",
        "X_train, X_val, y_train, y_val = train_test_split(X, y, test_size=0.2, random_state=42)\n",
        "\n",
        "# 7. Preprocessing Pipeline\n",
        "preprocessor = ColumnTransformer(\n",
        "    transformers=[\n",
        "        ('num', StandardScaler(), num_cols),\n",
        "        ('cat', OneHotEncoder(handle_unknown='ignore'), cat_cols)\n",
        "    ])\n",
        "\n",
        "# 8. Fit and Transform Training Data\n",
        "X_train_processed = preprocessor.fit_transform(X_train)\n",
        "X_val_processed = preprocessor.transform(X_val)\n",
        "\n",
        "# 9. Train Linear Regression Model\n",
        "model = LinearRegression()\n",
        "model.fit(X_train_processed, y_train)\n",
        "\n",
        "# 10. Make Predictions on Validation Set\n",
        "y_pred = model.predict(X_val_processed)\n",
        "\n",
        "# 11. Evaluate Model\n",
        "mse = mean_squared_error(y_val, y_pred)\n",
        "normalized_mse = mse / np.mean(y_val)\n",
        "print(\"Normalized MSE on Validation Set:\", normalized_mse)\n",
        "\n",
        "# ------------------------------\n",
        "# Q1: Preprocess Test Data and Get Predictions\n",
        "\n",
        "# Example test data (mocked for demonstration, replace with actual test data if available)\n",
        "test_data = X_val.copy()  # Simulating test data as a copy of validation data\n",
        "\n",
        "# Preprocess test data using the same pipeline\n",
        "test_data_processed = preprocessor.transform(test_data)\n",
        "\n",
        "# Get predictions\n",
        "predictions = model.predict(test_data_processed)\n",
        "\n",
        "# Output predictions\n",
        "output = pd.DataFrame({\"Predicted Salary\": predictions})\n",
        "print(output.head())\n"
      ]
    },
    {
      "cell_type": "code",
      "source": [],
      "metadata": {
        "id": "LLv_LKDxwA6g"
      },
      "execution_count": null,
      "outputs": []
    }
  ]
}